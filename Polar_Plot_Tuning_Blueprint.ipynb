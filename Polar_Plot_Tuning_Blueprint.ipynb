{
 "cells": [
  {
   "cell_type": "code",
   "execution_count": null,
   "metadata": {},
   "outputs": [],
   "source": [
    "\n",
    "meanvisdf = get_mean_by_trial(oridf_uncorrected, 7,17,add_columns = ['orientation'])\n",
    "\n",
    "orimeandf = meanvisdf.copy()\n",
    "orimeandf = orimeandf[~np.isnan(orimeandf.orientation)]\n",
    "hit_cells = [26,   689,   872]\n",
    "hit_cells = np.asarray(hit_cells)\n",
    "hit_cells = hit_cells-1\n",
    "ormeans = orimeandf.groupby(['cell','orientation']).df.mean()\n",
    "ormeans = ormeans.reset_index(level=['cell','orientation'])\n",
    "orsem = orimeandf.groupby(['cell','orientation']).df.sem()\n",
    "ormeans['sem'] = orsem.values\n",
    "import math\n",
    "for i,cell in enumerate(hit_cells):\n",
    "    thisdf = ormeans[ormeans.cell==cell]\n",
    "    ax = plt.subplot(1,3,i+1, projection='polar')\n",
    "    x = [math.radians(t) for t in thisdf.orientation.values] + [math.radians(thisdf.orientation.values[0])]\n",
    "    y = thisdf.df.values\n",
    "    y = np.append(y,thisdf.df.values[0])\n",
    "    yerr = thisdf['sem'].values\n",
    "    yerr = np.append(yerr,thisdf['sem'].values[0])\n",
    "    ax.plot(x, y, color='k')\n",
    "    ax.fill_between(x = x,\n",
    "                    y1 = y-yerr,\n",
    "                    y2 = y+yerr,alpha=.4)\n",
    "    #plt.title(cell+1)\n",
    "    #if i<1:\n",
    "    #    ax.set_rticks([-.5, 0, .5])  # less radial ticks\n",
    "    #if i==1:\n",
    "    #    ax.set_rticks([-.5, 0, .5,1])  # less radial ticks\n",
    "    #if i==2:\n",
    "    #    ax.set_rticks([0, .5])\n",
    "    #ax.set_rticklabels([])\n",
    "    #ax.set_rlabel_position(-22.5)  # get radial labels away from plotted line\n",
    "    #ax.set_rlim([-.5, .75])\n",
    "    ax.set_rticks([])\n",
    "    #ax.set_xticklabels()\n",
    "\n",
    "plt.gcf().set_size_inches(10,3)\n",
    "plt.tight_layout()\n"
   ]
  }
 ],
 "metadata": {
  "kernelspec": {
   "display_name": "Python 3",
   "language": "python",
   "name": "python3"
  },
  "language_info": {
   "codemirror_mode": {
    "name": "ipython",
    "version": 3
   },
   "file_extension": ".py",
   "mimetype": "text/x-python",
   "name": "python",
   "nbconvert_exporter": "python",
   "pygments_lexer": "ipython3",
   "version": "3.6.5"
  }
 },
 "nbformat": 4,
 "nbformat_minor": 2
}
